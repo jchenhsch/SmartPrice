{
 "cells": [
  {
   "cell_type": "code",
   "execution_count": 1,
   "id": "7a5240af-52bf-4ee7-a691-a0989baccb56",
   "metadata": {
    "tags": []
   },
   "outputs": [
    {
     "name": "stdout",
     "output_type": "stream",
     "text": [
      "sagemaker.config INFO - Not applying SDK defaults from location: /etc/xdg/sagemaker/config.yaml\n",
      "sagemaker.config INFO - Not applying SDK defaults from location: /home/ec2-user/.config/sagemaker/config.yaml\n"
     ]
    }
   ],
   "source": [
    "import pandas as pd\n",
    "import numpy as np\n",
    "import warnings\n",
    "warnings.filterwarnings('ignore')\n",
    "import boto3\n",
    "import pandas as pd\n",
    "from sagemaker.session import Session\n",
    "from sagemaker.feature_store.feature_group import FeatureGroup\n",
    "from sklearn.ensemble import RandomForestRegressor\n",
    "from sklearn.pipeline import Pipeline\n",
    "from sklearn.compose import ColumnTransformer\n",
    "from sklearn.preprocessing import OneHotEncoder, StandardScaler\n",
    "from sklearn.model_selection import GridSearchCV, train_test_split\n",
    "from sklearn.metrics import mean_squared_error\n",
    "import time\n",
    "from sklearn.model_selection import GridSearchCV\n",
    "import time\n",
    "import boto3\n",
    "from sagemaker import get_execution_role\n",
    "from sagemaker.feature_store.feature_group import FeatureGroup\n",
    "from sagemaker.feature_store.feature_definition import FeatureDefinition, FeatureTypeEnum\n",
    "from sagemaker.session import Session\n",
    "from botocore.exceptions import ClientError"
   ]
  },
  {
   "cell_type": "code",
   "execution_count": 2,
   "id": "a7fdf239-4398-4161-8fbe-5457ee5f2583",
   "metadata": {
    "tags": []
   },
   "outputs": [],
   "source": [
    "# Initialize S3 client\n",
    "s3_client = boto3.client('s3')\n",
    "\n",
    "# Define bucket and file path\n",
    "bucket = 'mlo-team4'\n",
    "file_key = 'original_data/Housing.csv'\n",
    "\n",
    "# Read the file from S3\n",
    "obj = s3_client.get_object(Bucket=bucket, Key=file_key)\n",
    "housing_data = pd.read_csv(obj['Body'])"
   ]
  },
  {
   "cell_type": "code",
   "execution_count": 3,
   "id": "c8569013-ef23-4975-8c5d-bc50473b403f",
   "metadata": {
    "tags": []
   },
   "outputs": [],
   "source": [
    "# Initialize SageMaker session and Feature Store\n",
    "sagemaker_session = Session()\n",
    "sagemaker_client = sagemaker_session.sagemaker_client\n",
    "sagemaker_featurestore_runtime_client = sagemaker_session.sagemaker_featurestore_runtime_client\n",
    "role = get_execution_role()"
   ]
  },
  {
   "cell_type": "code",
   "execution_count": 4,
   "id": "c5433668-ceb7-4b70-adad-e3cb01f8b0ff",
   "metadata": {
    "tags": []
   },
   "outputs": [
    {
     "data": {
      "text/plain": [
       "'arn:aws:iam::637423203755:role/service-role/AmazonSageMakerServiceCatalogProductsUseRole'"
      ]
     },
     "execution_count": 4,
     "metadata": {},
     "output_type": "execute_result"
    }
   ],
   "source": [
    "role"
   ]
  },
  {
   "cell_type": "code",
   "execution_count": 5,
   "id": "f2bdfd6f-f977-48b9-a41d-028dc13ce1ef",
   "metadata": {
    "tags": []
   },
   "outputs": [],
   "source": [
    "features_required1 = pd.read_csv('s3://mlo-team4/original_data/Housing.csv')"
   ]
  },
  {
   "cell_type": "code",
   "execution_count": 6,
   "id": "7f0fc06e-ed33-4757-a871-e27df51f4c01",
   "metadata": {
    "tags": []
   },
   "outputs": [
    {
     "data": {
      "text/plain": [
       "Index(['id', 'date', 'price', 'bedrooms', 'bathrooms', 'sqft_living',\n",
       "       'sqft_lot', 'floors', 'waterfront', 'view', 'condition', 'grade',\n",
       "       'sqft_above', 'sqft_basement', 'yr_built', 'yr_renovated', 'zipcode',\n",
       "       'lat', 'long', 'sqft_living15', 'sqft_lot15'],\n",
       "      dtype='object')"
      ]
     },
     "execution_count": 6,
     "metadata": {},
     "output_type": "execute_result"
    }
   ],
   "source": [
    "features_required1.columns"
   ]
  },
  {
   "cell_type": "code",
   "execution_count": 7,
   "id": "73f1a153-64ee-4a94-96f0-ec2cb698d1e2",
   "metadata": {
    "tags": []
   },
   "outputs": [
    {
     "data": {
      "text/html": [
       "<div>\n",
       "<style scoped>\n",
       "    .dataframe tbody tr th:only-of-type {\n",
       "        vertical-align: middle;\n",
       "    }\n",
       "\n",
       "    .dataframe tbody tr th {\n",
       "        vertical-align: top;\n",
       "    }\n",
       "\n",
       "    .dataframe thead th {\n",
       "        text-align: right;\n",
       "    }\n",
       "</style>\n",
       "<table border=\"1\" class=\"dataframe\">\n",
       "  <thead>\n",
       "    <tr style=\"text-align: right;\">\n",
       "      <th></th>\n",
       "      <th>id</th>\n",
       "      <th>date</th>\n",
       "      <th>price</th>\n",
       "      <th>bedrooms</th>\n",
       "      <th>bathrooms</th>\n",
       "      <th>sqft_living</th>\n",
       "      <th>sqft_lot</th>\n",
       "      <th>floors</th>\n",
       "      <th>waterfront</th>\n",
       "      <th>view</th>\n",
       "      <th>...</th>\n",
       "      <th>grade</th>\n",
       "      <th>sqft_above</th>\n",
       "      <th>sqft_basement</th>\n",
       "      <th>yr_built</th>\n",
       "      <th>yr_renovated</th>\n",
       "      <th>zipcode</th>\n",
       "      <th>lat</th>\n",
       "      <th>long</th>\n",
       "      <th>sqft_living15</th>\n",
       "      <th>sqft_lot15</th>\n",
       "    </tr>\n",
       "  </thead>\n",
       "  <tbody>\n",
       "    <tr>\n",
       "      <th>0</th>\n",
       "      <td>7229300521</td>\n",
       "      <td>20141013T000000</td>\n",
       "      <td>231300.0</td>\n",
       "      <td>2</td>\n",
       "      <td>1.00</td>\n",
       "      <td>1180</td>\n",
       "      <td>5650</td>\n",
       "      <td>1.0</td>\n",
       "      <td>0</td>\n",
       "      <td>0</td>\n",
       "      <td>...</td>\n",
       "      <td>7</td>\n",
       "      <td>1180</td>\n",
       "      <td>0</td>\n",
       "      <td>1955</td>\n",
       "      <td>0</td>\n",
       "      <td>98178</td>\n",
       "      <td>47.5112</td>\n",
       "      <td>-122.257</td>\n",
       "      <td>1340</td>\n",
       "      <td>5650</td>\n",
       "    </tr>\n",
       "    <tr>\n",
       "      <th>1</th>\n",
       "      <td>6414100192</td>\n",
       "      <td>20141209T000000</td>\n",
       "      <td>538000.0</td>\n",
       "      <td>3</td>\n",
       "      <td>2.25</td>\n",
       "      <td>2570</td>\n",
       "      <td>7242</td>\n",
       "      <td>2.0</td>\n",
       "      <td>0</td>\n",
       "      <td>0</td>\n",
       "      <td>...</td>\n",
       "      <td>7</td>\n",
       "      <td>2170</td>\n",
       "      <td>400</td>\n",
       "      <td>1951</td>\n",
       "      <td>1991</td>\n",
       "      <td>98125</td>\n",
       "      <td>47.7210</td>\n",
       "      <td>-122.319</td>\n",
       "      <td>1690</td>\n",
       "      <td>7639</td>\n",
       "    </tr>\n",
       "    <tr>\n",
       "      <th>2</th>\n",
       "      <td>5631500400</td>\n",
       "      <td>20150225T000000</td>\n",
       "      <td>180000.0</td>\n",
       "      <td>2</td>\n",
       "      <td>1.00</td>\n",
       "      <td>770</td>\n",
       "      <td>10000</td>\n",
       "      <td>1.0</td>\n",
       "      <td>0</td>\n",
       "      <td>0</td>\n",
       "      <td>...</td>\n",
       "      <td>6</td>\n",
       "      <td>770</td>\n",
       "      <td>0</td>\n",
       "      <td>1933</td>\n",
       "      <td>0</td>\n",
       "      <td>98028</td>\n",
       "      <td>47.7379</td>\n",
       "      <td>-122.233</td>\n",
       "      <td>2720</td>\n",
       "      <td>8062</td>\n",
       "    </tr>\n",
       "    <tr>\n",
       "      <th>3</th>\n",
       "      <td>2487200875</td>\n",
       "      <td>20141209T000000</td>\n",
       "      <td>604000.0</td>\n",
       "      <td>4</td>\n",
       "      <td>3.00</td>\n",
       "      <td>1960</td>\n",
       "      <td>5000</td>\n",
       "      <td>1.0</td>\n",
       "      <td>0</td>\n",
       "      <td>0</td>\n",
       "      <td>...</td>\n",
       "      <td>7</td>\n",
       "      <td>1050</td>\n",
       "      <td>910</td>\n",
       "      <td>1965</td>\n",
       "      <td>0</td>\n",
       "      <td>98136</td>\n",
       "      <td>47.5208</td>\n",
       "      <td>-122.393</td>\n",
       "      <td>1360</td>\n",
       "      <td>5000</td>\n",
       "    </tr>\n",
       "    <tr>\n",
       "      <th>4</th>\n",
       "      <td>1954400510</td>\n",
       "      <td>20150218T000000</td>\n",
       "      <td>510000.0</td>\n",
       "      <td>3</td>\n",
       "      <td>2.00</td>\n",
       "      <td>1680</td>\n",
       "      <td>8080</td>\n",
       "      <td>1.0</td>\n",
       "      <td>0</td>\n",
       "      <td>0</td>\n",
       "      <td>...</td>\n",
       "      <td>8</td>\n",
       "      <td>1680</td>\n",
       "      <td>0</td>\n",
       "      <td>1987</td>\n",
       "      <td>0</td>\n",
       "      <td>98074</td>\n",
       "      <td>47.6168</td>\n",
       "      <td>-122.045</td>\n",
       "      <td>1800</td>\n",
       "      <td>7503</td>\n",
       "    </tr>\n",
       "  </tbody>\n",
       "</table>\n",
       "<p>5 rows × 21 columns</p>\n",
       "</div>"
      ],
      "text/plain": [
       "           id             date     price  bedrooms  bathrooms  sqft_living  \\\n",
       "0  7229300521  20141013T000000  231300.0         2       1.00         1180   \n",
       "1  6414100192  20141209T000000  538000.0         3       2.25         2570   \n",
       "2  5631500400  20150225T000000  180000.0         2       1.00          770   \n",
       "3  2487200875  20141209T000000  604000.0         4       3.00         1960   \n",
       "4  1954400510  20150218T000000  510000.0         3       2.00         1680   \n",
       "\n",
       "   sqft_lot  floors  waterfront  view  ...  grade  sqft_above  sqft_basement  \\\n",
       "0      5650     1.0           0     0  ...      7        1180              0   \n",
       "1      7242     2.0           0     0  ...      7        2170            400   \n",
       "2     10000     1.0           0     0  ...      6         770              0   \n",
       "3      5000     1.0           0     0  ...      7        1050            910   \n",
       "4      8080     1.0           0     0  ...      8        1680              0   \n",
       "\n",
       "   yr_built  yr_renovated  zipcode      lat     long  sqft_living15  \\\n",
       "0      1955             0    98178  47.5112 -122.257           1340   \n",
       "1      1951          1991    98125  47.7210 -122.319           1690   \n",
       "2      1933             0    98028  47.7379 -122.233           2720   \n",
       "3      1965             0    98136  47.5208 -122.393           1360   \n",
       "4      1987             0    98074  47.6168 -122.045           1800   \n",
       "\n",
       "   sqft_lot15  \n",
       "0        5650  \n",
       "1        7639  \n",
       "2        8062  \n",
       "3        5000  \n",
       "4        7503  \n",
       "\n",
       "[5 rows x 21 columns]"
      ]
     },
     "execution_count": 7,
     "metadata": {},
     "output_type": "execute_result"
    }
   ],
   "source": [
    "features_required1.head()"
   ]
  },
  {
   "cell_type": "code",
   "execution_count": 8,
   "id": "246b83aa-41e7-493a-82cb-917c8add747a",
   "metadata": {
    "tags": []
   },
   "outputs": [
    {
     "data": {
      "text/plain": [
       "21613"
      ]
     },
     "execution_count": 8,
     "metadata": {},
     "output_type": "execute_result"
    }
   ],
   "source": [
    " features_required1.shape[0]"
   ]
  },
  {
   "cell_type": "markdown",
   "id": "60fa50c0-a66b-4be4-88eb-42aa45a78953",
   "metadata": {},
   "source": [
    "### Drop Irrelevant Features"
   ]
  },
  {
   "cell_type": "code",
   "execution_count": 9,
   "id": "280eabaa-9da6-4f19-9960-ac41624d6792",
   "metadata": {
    "tags": []
   },
   "outputs": [
    {
     "data": {
      "text/plain": [
       "0       20699\n",
       "2014       91\n",
       "2013       37\n",
       "2003       36\n",
       "2005       35\n",
       "        ...  \n",
       "1954        1\n",
       "1951        1\n",
       "1959        1\n",
       "1934        1\n",
       "1944        1\n",
       "Name: yr_renovated, Length: 70, dtype: int64"
      ]
     },
     "execution_count": 9,
     "metadata": {},
     "output_type": "execute_result"
    }
   ],
   "source": [
    "features_required1['yr_renovated'].value_counts()\n"
   ]
  },
  {
   "cell_type": "markdown",
   "id": "8e103ad2-0264-459a-9809-16d48515e725",
   "metadata": {},
   "source": [
    "#### Since there are 20,699 out of 21,613 rows that have 0 as the value for `yr_renovated` let's drop it. Also dropping other irrelevant columns below."
   ]
  },
  {
   "cell_type": "code",
   "execution_count": 10,
   "id": "6247909d-1c7c-4f61-b921-c5f3a1d629f4",
   "metadata": {
    "tags": []
   },
   "outputs": [],
   "source": [
    "features_required_new = features_required1.drop(columns=['waterfront', 'view', 'sqft_living15', 'sqft_lot15', 'lat', 'long', 'zipcode', 'yr_renovated'])"
   ]
  },
  {
   "cell_type": "markdown",
   "id": "cc8620df-fff1-416e-906d-c482aea326ba",
   "metadata": {},
   "source": [
    "### Data Types"
   ]
  },
  {
   "cell_type": "code",
   "execution_count": 11,
   "id": "a3340abd-dfd5-4cca-997f-27cfc02b0337",
   "metadata": {
    "tags": []
   },
   "outputs": [],
   "source": [
    "# Using the .str method to extract the year (first 4 characters)\n",
    "features_required_new['date'] = features_required_new['date'].str[:4].astype(int)\n",
    "\n",
    "\n"
   ]
  },
  {
   "cell_type": "code",
   "execution_count": 12,
   "id": "87f2998c-448d-4175-829c-a485f8b2b2a3",
   "metadata": {
    "tags": []
   },
   "outputs": [
    {
     "name": "stdout",
     "output_type": "stream",
     "text": [
      "id                 int64\n",
      "date               int64\n",
      "price            float64\n",
      "bedrooms           int64\n",
      "bathrooms        float64\n",
      "sqft_living        int64\n",
      "sqft_lot           int64\n",
      "floors           float64\n",
      "condition          int64\n",
      "grade              int64\n",
      "sqft_above         int64\n",
      "sqft_basement      int64\n",
      "yr_built           int64\n",
      "dtype: object\n"
     ]
    }
   ],
   "source": [
    "print(features_required_new.dtypes)\n"
   ]
  },
  {
   "cell_type": "markdown",
   "id": "4a107e1d-86ec-4b6f-9b98-4dbd5a03bbeb",
   "metadata": {
    "tags": []
   },
   "source": [
    "## Feature Store Set up"
   ]
  },
  {
   "cell_type": "code",
   "execution_count": 13,
   "id": "a662d139-00da-46b8-bef0-1495820fd218",
   "metadata": {
    "tags": []
   },
   "outputs": [],
   "source": [
    "# Function to delete feature group if it exists\n",
    "def delete_feature_group_if_exists(feature_group_name):\n",
    "    try:\n",
    "        sagemaker_client.delete_feature_group(FeatureGroupName=feature_group_name)\n",
    "        print(f\"Deleted feature group: {feature_group_name}\")\n",
    "    except sagemaker_client.exceptions.ResourceNotFound:\n",
    "        print(f\"Feature group {feature_group_name} does not exist\")\n",
    "    except sagemaker_client.exceptions.ResourceInUse:\n",
    "        print(f\"Feature group {feature_group_name} is in use and cannot be deleted immediately\")"
   ]
  },
  {
   "cell_type": "code",
   "execution_count": 33,
   "id": "beaa1cb2-b015-4d6e-89ad-35723295f014",
   "metadata": {
    "tags": []
   },
   "outputs": [
    {
     "name": "stdout",
     "output_type": "stream",
     "text": [
      "Deleted feature group: housing-feature-group\n"
     ]
    }
   ],
   "source": [
    "delete_feature_group_if_exists('housing-feature-group')"
   ]
  },
  {
   "cell_type": "code",
   "execution_count": 20,
   "id": "e919b7ff-0697-490b-a696-7ac182c0ebdf",
   "metadata": {
    "tags": []
   },
   "outputs": [],
   "source": [
    "# Select features for ingestion\n",
    "features_required_new = features_required_new[['number', 'event_time', 'date', 'price', 'bedrooms', \n",
    "                                               'bathrooms', 'sqft_living', 'sqft_lot', 'floors', \n",
    "                                               'condition', 'grade', 'sqft_above', 'sqft_basement', \n",
    "                                               'yr_built']]"
   ]
  },
  {
   "cell_type": "code",
   "execution_count": 21,
   "id": "98cf5365-3112-4f83-80d2-09c2061fcaf6",
   "metadata": {
    "tags": []
   },
   "outputs": [
    {
     "name": "stdout",
     "output_type": "stream",
     "text": [
      "number           string\n",
      "event_time       string\n",
      "date              int64\n",
      "price             int64\n",
      "bedrooms          int64\n",
      "bathrooms         int64\n",
      "sqft_living       int64\n",
      "sqft_lot          int64\n",
      "floors            int64\n",
      "condition         int64\n",
      "grade             int64\n",
      "sqft_above        int64\n",
      "sqft_basement     int64\n",
      "yr_built          int64\n",
      "dtype: object\n"
     ]
    }
   ],
   "source": [
    "# Convert float columns to int\n",
    "features_required_new['price'] = features_required_new['price'].astype('int64')\n",
    "features_required_new['bathrooms'] = features_required_new['bathrooms'].astype('int64')\n",
    "features_required_new['floors'] = features_required_new['floors'].astype('int64')\n",
    "\n",
    "# Verify the data types\n",
    "print(features_required_new.dtypes)\n"
   ]
  },
  {
   "cell_type": "code",
   "execution_count": 22,
   "id": "35f7bbae-19fb-40f4-b43b-9a112cc4ce0f",
   "metadata": {
    "tags": []
   },
   "outputs": [
    {
     "data": {
      "text/html": [
       "<div>\n",
       "<style scoped>\n",
       "    .dataframe tbody tr th:only-of-type {\n",
       "        vertical-align: middle;\n",
       "    }\n",
       "\n",
       "    .dataframe tbody tr th {\n",
       "        vertical-align: top;\n",
       "    }\n",
       "\n",
       "    .dataframe thead th {\n",
       "        text-align: right;\n",
       "    }\n",
       "</style>\n",
       "<table border=\"1\" class=\"dataframe\">\n",
       "  <thead>\n",
       "    <tr style=\"text-align: right;\">\n",
       "      <th></th>\n",
       "      <th>number</th>\n",
       "      <th>event_time</th>\n",
       "      <th>date</th>\n",
       "      <th>price</th>\n",
       "      <th>bedrooms</th>\n",
       "      <th>bathrooms</th>\n",
       "      <th>sqft_living</th>\n",
       "      <th>sqft_lot</th>\n",
       "      <th>floors</th>\n",
       "      <th>condition</th>\n",
       "      <th>grade</th>\n",
       "      <th>sqft_above</th>\n",
       "      <th>sqft_basement</th>\n",
       "      <th>yr_built</th>\n",
       "    </tr>\n",
       "  </thead>\n",
       "  <tbody>\n",
       "    <tr>\n",
       "      <th>0</th>\n",
       "      <td>0</td>\n",
       "      <td>2024-12-12T02:54:13Z</td>\n",
       "      <td>2014</td>\n",
       "      <td>231300</td>\n",
       "      <td>2</td>\n",
       "      <td>1</td>\n",
       "      <td>1180</td>\n",
       "      <td>5650</td>\n",
       "      <td>1</td>\n",
       "      <td>3</td>\n",
       "      <td>7</td>\n",
       "      <td>1180</td>\n",
       "      <td>0</td>\n",
       "      <td>1955</td>\n",
       "    </tr>\n",
       "    <tr>\n",
       "      <th>1</th>\n",
       "      <td>1</td>\n",
       "      <td>2024-12-12T02:54:13Z</td>\n",
       "      <td>2014</td>\n",
       "      <td>538000</td>\n",
       "      <td>3</td>\n",
       "      <td>2</td>\n",
       "      <td>2570</td>\n",
       "      <td>7242</td>\n",
       "      <td>2</td>\n",
       "      <td>3</td>\n",
       "      <td>7</td>\n",
       "      <td>2170</td>\n",
       "      <td>400</td>\n",
       "      <td>1951</td>\n",
       "    </tr>\n",
       "    <tr>\n",
       "      <th>2</th>\n",
       "      <td>2</td>\n",
       "      <td>2024-12-12T02:54:13Z</td>\n",
       "      <td>2015</td>\n",
       "      <td>180000</td>\n",
       "      <td>2</td>\n",
       "      <td>1</td>\n",
       "      <td>770</td>\n",
       "      <td>10000</td>\n",
       "      <td>1</td>\n",
       "      <td>3</td>\n",
       "      <td>6</td>\n",
       "      <td>770</td>\n",
       "      <td>0</td>\n",
       "      <td>1933</td>\n",
       "    </tr>\n",
       "    <tr>\n",
       "      <th>3</th>\n",
       "      <td>3</td>\n",
       "      <td>2024-12-12T02:54:13Z</td>\n",
       "      <td>2014</td>\n",
       "      <td>604000</td>\n",
       "      <td>4</td>\n",
       "      <td>3</td>\n",
       "      <td>1960</td>\n",
       "      <td>5000</td>\n",
       "      <td>1</td>\n",
       "      <td>5</td>\n",
       "      <td>7</td>\n",
       "      <td>1050</td>\n",
       "      <td>910</td>\n",
       "      <td>1965</td>\n",
       "    </tr>\n",
       "    <tr>\n",
       "      <th>4</th>\n",
       "      <td>4</td>\n",
       "      <td>2024-12-12T02:54:13Z</td>\n",
       "      <td>2015</td>\n",
       "      <td>510000</td>\n",
       "      <td>3</td>\n",
       "      <td>2</td>\n",
       "      <td>1680</td>\n",
       "      <td>8080</td>\n",
       "      <td>1</td>\n",
       "      <td>3</td>\n",
       "      <td>8</td>\n",
       "      <td>1680</td>\n",
       "      <td>0</td>\n",
       "      <td>1987</td>\n",
       "    </tr>\n",
       "    <tr>\n",
       "      <th>...</th>\n",
       "      <td>...</td>\n",
       "      <td>...</td>\n",
       "      <td>...</td>\n",
       "      <td>...</td>\n",
       "      <td>...</td>\n",
       "      <td>...</td>\n",
       "      <td>...</td>\n",
       "      <td>...</td>\n",
       "      <td>...</td>\n",
       "      <td>...</td>\n",
       "      <td>...</td>\n",
       "      <td>...</td>\n",
       "      <td>...</td>\n",
       "      <td>...</td>\n",
       "    </tr>\n",
       "    <tr>\n",
       "      <th>21608</th>\n",
       "      <td>21608</td>\n",
       "      <td>2024-12-12T02:54:13Z</td>\n",
       "      <td>2014</td>\n",
       "      <td>360000</td>\n",
       "      <td>3</td>\n",
       "      <td>2</td>\n",
       "      <td>1530</td>\n",
       "      <td>1131</td>\n",
       "      <td>3</td>\n",
       "      <td>3</td>\n",
       "      <td>8</td>\n",
       "      <td>1530</td>\n",
       "      <td>0</td>\n",
       "      <td>2009</td>\n",
       "    </tr>\n",
       "    <tr>\n",
       "      <th>21609</th>\n",
       "      <td>21609</td>\n",
       "      <td>2024-12-12T02:54:13Z</td>\n",
       "      <td>2015</td>\n",
       "      <td>400000</td>\n",
       "      <td>4</td>\n",
       "      <td>2</td>\n",
       "      <td>2310</td>\n",
       "      <td>5813</td>\n",
       "      <td>2</td>\n",
       "      <td>3</td>\n",
       "      <td>8</td>\n",
       "      <td>2310</td>\n",
       "      <td>0</td>\n",
       "      <td>2014</td>\n",
       "    </tr>\n",
       "    <tr>\n",
       "      <th>21610</th>\n",
       "      <td>21610</td>\n",
       "      <td>2024-12-12T02:54:13Z</td>\n",
       "      <td>2014</td>\n",
       "      <td>402101</td>\n",
       "      <td>2</td>\n",
       "      <td>0</td>\n",
       "      <td>1020</td>\n",
       "      <td>1350</td>\n",
       "      <td>2</td>\n",
       "      <td>3</td>\n",
       "      <td>7</td>\n",
       "      <td>1020</td>\n",
       "      <td>0</td>\n",
       "      <td>2009</td>\n",
       "    </tr>\n",
       "    <tr>\n",
       "      <th>21611</th>\n",
       "      <td>21611</td>\n",
       "      <td>2024-12-12T02:54:13Z</td>\n",
       "      <td>2015</td>\n",
       "      <td>400000</td>\n",
       "      <td>3</td>\n",
       "      <td>2</td>\n",
       "      <td>1600</td>\n",
       "      <td>2388</td>\n",
       "      <td>2</td>\n",
       "      <td>3</td>\n",
       "      <td>8</td>\n",
       "      <td>1600</td>\n",
       "      <td>0</td>\n",
       "      <td>2004</td>\n",
       "    </tr>\n",
       "    <tr>\n",
       "      <th>21612</th>\n",
       "      <td>21612</td>\n",
       "      <td>2024-12-12T02:54:13Z</td>\n",
       "      <td>2014</td>\n",
       "      <td>325000</td>\n",
       "      <td>2</td>\n",
       "      <td>0</td>\n",
       "      <td>1020</td>\n",
       "      <td>1076</td>\n",
       "      <td>2</td>\n",
       "      <td>3</td>\n",
       "      <td>7</td>\n",
       "      <td>1020</td>\n",
       "      <td>0</td>\n",
       "      <td>2008</td>\n",
       "    </tr>\n",
       "  </tbody>\n",
       "</table>\n",
       "<p>21613 rows × 14 columns</p>\n",
       "</div>"
      ],
      "text/plain": [
       "      number            event_time  date   price  bedrooms  bathrooms  \\\n",
       "0          0  2024-12-12T02:54:13Z  2014  231300         2          1   \n",
       "1          1  2024-12-12T02:54:13Z  2014  538000         3          2   \n",
       "2          2  2024-12-12T02:54:13Z  2015  180000         2          1   \n",
       "3          3  2024-12-12T02:54:13Z  2014  604000         4          3   \n",
       "4          4  2024-12-12T02:54:13Z  2015  510000         3          2   \n",
       "...      ...                   ...   ...     ...       ...        ...   \n",
       "21608  21608  2024-12-12T02:54:13Z  2014  360000         3          2   \n",
       "21609  21609  2024-12-12T02:54:13Z  2015  400000         4          2   \n",
       "21610  21610  2024-12-12T02:54:13Z  2014  402101         2          0   \n",
       "21611  21611  2024-12-12T02:54:13Z  2015  400000         3          2   \n",
       "21612  21612  2024-12-12T02:54:13Z  2014  325000         2          0   \n",
       "\n",
       "       sqft_living  sqft_lot  floors  condition  grade  sqft_above  \\\n",
       "0             1180      5650       1          3      7        1180   \n",
       "1             2570      7242       2          3      7        2170   \n",
       "2              770     10000       1          3      6         770   \n",
       "3             1960      5000       1          5      7        1050   \n",
       "4             1680      8080       1          3      8        1680   \n",
       "...            ...       ...     ...        ...    ...         ...   \n",
       "21608         1530      1131       3          3      8        1530   \n",
       "21609         2310      5813       2          3      8        2310   \n",
       "21610         1020      1350       2          3      7        1020   \n",
       "21611         1600      2388       2          3      8        1600   \n",
       "21612         1020      1076       2          3      7        1020   \n",
       "\n",
       "       sqft_basement  yr_built  \n",
       "0                  0      1955  \n",
       "1                400      1951  \n",
       "2                  0      1933  \n",
       "3                910      1965  \n",
       "4                  0      1987  \n",
       "...              ...       ...  \n",
       "21608              0      2009  \n",
       "21609              0      2014  \n",
       "21610              0      2009  \n",
       "21611              0      2004  \n",
       "21612              0      2008  \n",
       "\n",
       "[21613 rows x 14 columns]"
      ]
     },
     "execution_count": 22,
     "metadata": {},
     "output_type": "execute_result"
    }
   ],
   "source": [
    "features_required_new"
   ]
  },
  {
   "cell_type": "markdown",
   "id": "a7a001ce-849c-481d-93f4-8d9838874f0c",
   "metadata": {},
   "source": [
    "## Step 1: Split the Data\n",
    "\n",
    "- 20,000 rows for initial training.\n",
    "- 1,613 rows for simulation.\n",
    "\n"
   ]
  },
  {
   "cell_type": "code",
   "execution_count": 23,
   "id": "5bc4aced-1a06-472d-a063-7fccda05c0b4",
   "metadata": {},
   "outputs": [],
   "source": [
    "import pandas as pd\n",
    "from sklearn.model_selection import train_test_split"
   ]
  },
  {
   "cell_type": "code",
   "execution_count": 27,
   "id": "7b10182d-703e-4ea2-a04c-35e3e4bee750",
   "metadata": {},
   "outputs": [],
   "source": [
    "# loading data\n",
    "data = features_required_new"
   ]
  },
  {
   "cell_type": "code",
   "execution_count": 25,
   "id": "1d61326b-5a87-420f-a21c-6b92d6d7ea3a",
   "metadata": {
    "tags": []
   },
   "outputs": [
    {
     "data": {
      "text/plain": [
       "21613"
      ]
     },
     "execution_count": 25,
     "metadata": {},
     "output_type": "execute_result"
    }
   ],
   "source": [
    "data.shape[0]"
   ]
  },
  {
   "cell_type": "code",
   "execution_count": 28,
   "id": "8af3646e-1e01-472f-bdc2-d6c14132a79f",
   "metadata": {
    "tags": []
   },
   "outputs": [
    {
     "name": "stdout",
     "output_type": "stream",
     "text": [
      "Test data: 3000 rows\n",
      "Simulation data: 18613 rows\n"
     ]
    }
   ],
   "source": [
    "# Split to get 3,000 rows for test_data and the rest for simulation_data\n",
    "test_data, simulation_data = train_test_split(data,\n",
    "                                            train_size=3000,  # Using train_size to get 3,000 for test\n",
    "                                            random_state=42)\n",
    "\n",
    "# Verify the sizes of the splits\n",
    "print(f\"Test data: {test_data.shape[0]} rows\")\n",
    "print(f\"Simulation data: {simulation_data.shape[0]} rows\")"
   ]
  },
  {
   "cell_type": "code",
   "execution_count": 29,
   "id": "5e8e2c70-9626-4695-886d-f20906493c6e",
   "metadata": {
    "tags": []
   },
   "outputs": [
    {
     "name": "stdout",
     "output_type": "stream",
     "text": [
      "Simulation set 1: 10000 rows\n",
      "Simulation set 2: 4306 rows\n",
      "Simulation set 3: 4307 rows\n",
      "Total rows: 18613\n"
     ]
    }
   ],
   "source": [
    "# First split simulation_data into 10k and the rest\n",
    "sim_1, temp = train_test_split(simulation_data,\n",
    "                              train_size=10000,\n",
    "                              random_state=42)\n",
    "\n",
    "# Then split the remaining data (8,613 rows) into two roughly equal parts\n",
    "sim_2, sim_3 = train_test_split(temp,\n",
    "                               train_size=0.5,  # This will give roughly half of 8,613\n",
    "                               random_state=42)\n",
    "\n",
    "# Verify the sizes\n",
    "print(f\"Simulation set 1: {sim_1.shape[0]} rows\")\n",
    "print(f\"Simulation set 2: {sim_2.shape[0]} rows\")\n",
    "print(f\"Simulation set 3: {sim_3.shape[0]} rows\")\n",
    "print(f\"Total rows: {sim_1.shape[0] + sim_2.shape[0] + sim_3.shape[0]}\")"
   ]
  },
  {
   "cell_type": "code",
   "execution_count": 44,
   "id": "a5f4a823-f126-42db-ab6b-4ec0f6a68f00",
   "metadata": {
    "tags": []
   },
   "outputs": [
    {
     "data": {
      "text/html": [
       "<div>\n",
       "<style scoped>\n",
       "    .dataframe tbody tr th:only-of-type {\n",
       "        vertical-align: middle;\n",
       "    }\n",
       "\n",
       "    .dataframe tbody tr th {\n",
       "        vertical-align: top;\n",
       "    }\n",
       "\n",
       "    .dataframe thead th {\n",
       "        text-align: right;\n",
       "    }\n",
       "</style>\n",
       "<table border=\"1\" class=\"dataframe\">\n",
       "  <thead>\n",
       "    <tr style=\"text-align: right;\">\n",
       "      <th></th>\n",
       "      <th>number</th>\n",
       "      <th>event_time</th>\n",
       "      <th>date</th>\n",
       "      <th>price</th>\n",
       "      <th>bedrooms</th>\n",
       "      <th>bathrooms</th>\n",
       "      <th>sqft_living</th>\n",
       "      <th>sqft_lot</th>\n",
       "      <th>floors</th>\n",
       "      <th>condition</th>\n",
       "      <th>grade</th>\n",
       "      <th>sqft_above</th>\n",
       "      <th>sqft_basement</th>\n",
       "      <th>yr_built</th>\n",
       "    </tr>\n",
       "  </thead>\n",
       "  <tbody>\n",
       "    <tr>\n",
       "      <th>14801</th>\n",
       "      <td>14801</td>\n",
       "      <td>2024-12-12T02:54:13Z</td>\n",
       "      <td>2014</td>\n",
       "      <td>513000</td>\n",
       "      <td>3</td>\n",
       "      <td>2</td>\n",
       "      <td>1500</td>\n",
       "      <td>1312</td>\n",
       "      <td>3</td>\n",
       "      <td>3</td>\n",
       "      <td>8</td>\n",
       "      <td>1500</td>\n",
       "      <td>0</td>\n",
       "      <td>2007</td>\n",
       "    </tr>\n",
       "    <tr>\n",
       "      <th>16862</th>\n",
       "      <td>16862</td>\n",
       "      <td>2024-12-12T02:54:13Z</td>\n",
       "      <td>2014</td>\n",
       "      <td>1200000</td>\n",
       "      <td>4</td>\n",
       "      <td>3</td>\n",
       "      <td>4740</td>\n",
       "      <td>172497</td>\n",
       "      <td>2</td>\n",
       "      <td>3</td>\n",
       "      <td>11</td>\n",
       "      <td>4740</td>\n",
       "      <td>0</td>\n",
       "      <td>2003</td>\n",
       "    </tr>\n",
       "    <tr>\n",
       "      <th>18124</th>\n",
       "      <td>18124</td>\n",
       "      <td>2024-12-12T02:54:13Z</td>\n",
       "      <td>2014</td>\n",
       "      <td>253400</td>\n",
       "      <td>3</td>\n",
       "      <td>2</td>\n",
       "      <td>1400</td>\n",
       "      <td>8640</td>\n",
       "      <td>1</td>\n",
       "      <td>5</td>\n",
       "      <td>7</td>\n",
       "      <td>1400</td>\n",
       "      <td>0</td>\n",
       "      <td>1968</td>\n",
       "    </tr>\n",
       "    <tr>\n",
       "      <th>1820</th>\n",
       "      <td>1820</td>\n",
       "      <td>2024-12-12T02:54:13Z</td>\n",
       "      <td>2014</td>\n",
       "      <td>275000</td>\n",
       "      <td>2</td>\n",
       "      <td>1</td>\n",
       "      <td>1180</td>\n",
       "      <td>6552</td>\n",
       "      <td>1</td>\n",
       "      <td>4</td>\n",
       "      <td>6</td>\n",
       "      <td>1180</td>\n",
       "      <td>0</td>\n",
       "      <td>1949</td>\n",
       "    </tr>\n",
       "    <tr>\n",
       "      <th>13300</th>\n",
       "      <td>13300</td>\n",
       "      <td>2024-12-12T02:54:13Z</td>\n",
       "      <td>2014</td>\n",
       "      <td>328000</td>\n",
       "      <td>4</td>\n",
       "      <td>1</td>\n",
       "      <td>1360</td>\n",
       "      <td>8136</td>\n",
       "      <td>1</td>\n",
       "      <td>3</td>\n",
       "      <td>7</td>\n",
       "      <td>1360</td>\n",
       "      <td>0</td>\n",
       "      <td>1948</td>\n",
       "    </tr>\n",
       "    <tr>\n",
       "      <th>...</th>\n",
       "      <td>...</td>\n",
       "      <td>...</td>\n",
       "      <td>...</td>\n",
       "      <td>...</td>\n",
       "      <td>...</td>\n",
       "      <td>...</td>\n",
       "      <td>...</td>\n",
       "      <td>...</td>\n",
       "      <td>...</td>\n",
       "      <td>...</td>\n",
       "      <td>...</td>\n",
       "      <td>...</td>\n",
       "      <td>...</td>\n",
       "      <td>...</td>\n",
       "    </tr>\n",
       "    <tr>\n",
       "      <th>13073</th>\n",
       "      <td>13073</td>\n",
       "      <td>2024-12-12T02:54:13Z</td>\n",
       "      <td>2015</td>\n",
       "      <td>469000</td>\n",
       "      <td>4</td>\n",
       "      <td>2</td>\n",
       "      <td>2240</td>\n",
       "      <td>5624</td>\n",
       "      <td>1</td>\n",
       "      <td>3</td>\n",
       "      <td>7</td>\n",
       "      <td>1520</td>\n",
       "      <td>720</td>\n",
       "      <td>1961</td>\n",
       "    </tr>\n",
       "    <tr>\n",
       "      <th>19941</th>\n",
       "      <td>19941</td>\n",
       "      <td>2024-12-12T02:54:13Z</td>\n",
       "      <td>2014</td>\n",
       "      <td>450000</td>\n",
       "      <td>5</td>\n",
       "      <td>2</td>\n",
       "      <td>2710</td>\n",
       "      <td>6220</td>\n",
       "      <td>2</td>\n",
       "      <td>3</td>\n",
       "      <td>8</td>\n",
       "      <td>2710</td>\n",
       "      <td>0</td>\n",
       "      <td>2014</td>\n",
       "    </tr>\n",
       "    <tr>\n",
       "      <th>13015</th>\n",
       "      <td>13015</td>\n",
       "      <td>2024-12-12T02:54:13Z</td>\n",
       "      <td>2015</td>\n",
       "      <td>295000</td>\n",
       "      <td>4</td>\n",
       "      <td>2</td>\n",
       "      <td>1650</td>\n",
       "      <td>7200</td>\n",
       "      <td>1</td>\n",
       "      <td>3</td>\n",
       "      <td>7</td>\n",
       "      <td>1650</td>\n",
       "      <td>0</td>\n",
       "      <td>1964</td>\n",
       "    </tr>\n",
       "    <tr>\n",
       "      <th>7417</th>\n",
       "      <td>7417</td>\n",
       "      <td>2024-12-12T02:54:13Z</td>\n",
       "      <td>2015</td>\n",
       "      <td>459000</td>\n",
       "      <td>4</td>\n",
       "      <td>3</td>\n",
       "      <td>1900</td>\n",
       "      <td>9077</td>\n",
       "      <td>2</td>\n",
       "      <td>3</td>\n",
       "      <td>7</td>\n",
       "      <td>1900</td>\n",
       "      <td>0</td>\n",
       "      <td>1954</td>\n",
       "    </tr>\n",
       "    <tr>\n",
       "      <th>19836</th>\n",
       "      <td>19836</td>\n",
       "      <td>2024-12-12T02:54:13Z</td>\n",
       "      <td>2014</td>\n",
       "      <td>285000</td>\n",
       "      <td>3</td>\n",
       "      <td>2</td>\n",
       "      <td>2437</td>\n",
       "      <td>5136</td>\n",
       "      <td>2</td>\n",
       "      <td>3</td>\n",
       "      <td>7</td>\n",
       "      <td>2437</td>\n",
       "      <td>0</td>\n",
       "      <td>2011</td>\n",
       "    </tr>\n",
       "  </tbody>\n",
       "</table>\n",
       "<p>10000 rows × 14 columns</p>\n",
       "</div>"
      ],
      "text/plain": [
       "      number            event_time  date    price  bedrooms  bathrooms  \\\n",
       "14801  14801  2024-12-12T02:54:13Z  2014   513000         3          2   \n",
       "16862  16862  2024-12-12T02:54:13Z  2014  1200000         4          3   \n",
       "18124  18124  2024-12-12T02:54:13Z  2014   253400         3          2   \n",
       "1820    1820  2024-12-12T02:54:13Z  2014   275000         2          1   \n",
       "13300  13300  2024-12-12T02:54:13Z  2014   328000         4          1   \n",
       "...      ...                   ...   ...      ...       ...        ...   \n",
       "13073  13073  2024-12-12T02:54:13Z  2015   469000         4          2   \n",
       "19941  19941  2024-12-12T02:54:13Z  2014   450000         5          2   \n",
       "13015  13015  2024-12-12T02:54:13Z  2015   295000         4          2   \n",
       "7417    7417  2024-12-12T02:54:13Z  2015   459000         4          3   \n",
       "19836  19836  2024-12-12T02:54:13Z  2014   285000         3          2   \n",
       "\n",
       "       sqft_living  sqft_lot  floors  condition  grade  sqft_above  \\\n",
       "14801         1500      1312       3          3      8        1500   \n",
       "16862         4740    172497       2          3     11        4740   \n",
       "18124         1400      8640       1          5      7        1400   \n",
       "1820          1180      6552       1          4      6        1180   \n",
       "13300         1360      8136       1          3      7        1360   \n",
       "...            ...       ...     ...        ...    ...         ...   \n",
       "13073         2240      5624       1          3      7        1520   \n",
       "19941         2710      6220       2          3      8        2710   \n",
       "13015         1650      7200       1          3      7        1650   \n",
       "7417          1900      9077       2          3      7        1900   \n",
       "19836         2437      5136       2          3      7        2437   \n",
       "\n",
       "       sqft_basement  yr_built  \n",
       "14801              0      2007  \n",
       "16862              0      2003  \n",
       "18124              0      1968  \n",
       "1820               0      1949  \n",
       "13300              0      1948  \n",
       "...              ...       ...  \n",
       "13073            720      1961  \n",
       "19941              0      2014  \n",
       "13015              0      1964  \n",
       "7417               0      1954  \n",
       "19836              0      2011  \n",
       "\n",
       "[10000 rows x 14 columns]"
      ]
     },
     "execution_count": 44,
     "metadata": {},
     "output_type": "execute_result"
    }
   ],
   "source": [
    "sim_1"
   ]
  },
  {
   "cell_type": "markdown",
   "id": "dc764326-f48c-4fe3-8c03-db1454e06911",
   "metadata": {},
   "source": [
    "### Ingest Data into Different Feature Groups"
   ]
  },
  {
   "cell_type": "markdown",
   "id": "4032d8c7-678d-449e-ab5e-8dcb8f45d027",
   "metadata": {},
   "source": [
    "### Simulation Data"
   ]
  },
  {
   "cell_type": "code",
   "execution_count": 34,
   "id": "571835ff-3f65-464d-98ee-5991d0f95cb1",
   "metadata": {
    "tags": []
   },
   "outputs": [],
   "source": [
    "feature_group_name_simulation = 'housing-feature-group-simulation'\n",
    "feature_group_name_test = 'housing-feature-group-test'"
   ]
  },
  {
   "cell_type": "code",
   "execution_count": 46,
   "id": "93a254a6-0345-4fe0-acc0-6b1daaa8d98c",
   "metadata": {
    "tags": []
   },
   "outputs": [],
   "source": [
    "from sagemaker.feature_store.feature_group import FeatureGroup\n",
    "from sagemaker.feature_store.feature_definition import FeatureDefinition, FeatureTypeEnum\n",
    "\n",
    "# Define training feature group\n",
    "feature_group_name_simulation = 'housing-feature-group-simulation'\n",
    "\n",
    "feature_definitions_simulation = FeatureGroup(\n",
    "    name=feature_group_name_simulation,\n",
    "    sagemaker_session=sagemaker_session,\n",
    "    feature_definitions=[\n",
    "        FeatureDefinition(feature_name=\"number\", feature_type=FeatureTypeEnum.STRING),\n",
    "        FeatureDefinition(feature_name=\"event_time\", feature_type=FeatureTypeEnum.STRING),\n",
    "        FeatureDefinition(feature_name=\"date\", feature_type=FeatureTypeEnum.FRACTIONAL),\n",
    "        FeatureDefinition(feature_name=\"price\", feature_type=FeatureTypeEnum.FRACTIONAL),\n",
    "        FeatureDefinition(feature_name=\"bedrooms\", feature_type=FeatureTypeEnum.FRACTIONAL),\n",
    "        FeatureDefinition(feature_name=\"bathrooms\", feature_type=FeatureTypeEnum.FRACTIONAL),\n",
    "        FeatureDefinition(feature_name=\"sqft_living\", feature_type=FeatureTypeEnum.FRACTIONAL),\n",
    "        FeatureDefinition(feature_name=\"sqft_lot\", feature_type=FeatureTypeEnum.FRACTIONAL),\n",
    "        FeatureDefinition(feature_name=\"floors\", feature_type=FeatureTypeEnum.FRACTIONAL),\n",
    "        FeatureDefinition(feature_name=\"condition\", feature_type=FeatureTypeEnum.FRACTIONAL),\n",
    "        FeatureDefinition(feature_name=\"grade\", feature_type=FeatureTypeEnum.FRACTIONAL),\n",
    "        FeatureDefinition(feature_name=\"sqft_above\", feature_type=FeatureTypeEnum.FRACTIONAL),\n",
    "        FeatureDefinition(feature_name=\"sqft_basement\", feature_type=FeatureTypeEnum.FRACTIONAL),\n",
    "        FeatureDefinition(feature_name=\"yr_built\", feature_type=FeatureTypeEnum.FRACTIONAL)\n",
    "    ]\n",
    ")"
   ]
  },
  {
   "cell_type": "code",
   "execution_count": 47,
   "id": "1d0ea126-49a1-4240-9ffb-a60d7d1649e7",
   "metadata": {
    "tags": []
   },
   "outputs": [
    {
     "data": {
      "text/plain": [
       "{'FeatureGroupArn': 'arn:aws:sagemaker:us-east-2:637423203755:feature-group/housing-feature-group-simulation',\n",
       " 'ResponseMetadata': {'RequestId': 'a161076d-14ed-4bdf-9a8c-c004f8063061',\n",
       "  'HTTPStatusCode': 200,\n",
       "  'HTTPHeaders': {'x-amzn-requestid': 'a161076d-14ed-4bdf-9a8c-c004f8063061',\n",
       "   'content-type': 'application/x-amz-json-1.1',\n",
       "   'content-length': '109',\n",
       "   'date': 'Thu, 12 Dec 2024 03:10:23 GMT'},\n",
       "  'RetryAttempts': 0}}"
      ]
     },
     "execution_count": 47,
     "metadata": {},
     "output_type": "execute_result"
    }
   ],
   "source": [
    "# Create the training feature group\n",
    "feature_definitions_simulation.create(\n",
    "    record_identifier_name=\"number\",\n",
    "    event_time_feature_name=\"event_time\",\n",
    "    s3_uri=f's3://mlo-team4/features/simulation/',\n",
    "    role_arn=role,\n",
    "    enable_online_store=True\n",
    ")"
   ]
  },
  {
   "cell_type": "code",
   "execution_count": 48,
   "id": "9ff67de7-536b-47aa-8e96-d6fb25f604ad",
   "metadata": {
    "tags": []
   },
   "outputs": [
    {
     "data": {
      "text/plain": [
       "IngestionManagerPandas(feature_group_name='housing-feature-group-simulation', feature_definitions={'number': {'FeatureName': 'number', 'FeatureType': 'String'}, 'event_time': {'FeatureName': 'event_time', 'FeatureType': 'String'}, 'date': {'FeatureName': 'date', 'FeatureType': 'Fractional'}, 'price': {'FeatureName': 'price', 'FeatureType': 'Fractional'}, 'bedrooms': {'FeatureName': 'bedrooms', 'FeatureType': 'Fractional'}, 'bathrooms': {'FeatureName': 'bathrooms', 'FeatureType': 'Fractional'}, 'sqft_living': {'FeatureName': 'sqft_living', 'FeatureType': 'Fractional'}, 'sqft_lot': {'FeatureName': 'sqft_lot', 'FeatureType': 'Fractional'}, 'floors': {'FeatureName': 'floors', 'FeatureType': 'Fractional'}, 'condition': {'FeatureName': 'condition', 'FeatureType': 'Fractional'}, 'grade': {'FeatureName': 'grade', 'FeatureType': 'Fractional'}, 'sqft_above': {'FeatureName': 'sqft_above', 'FeatureType': 'Fractional'}, 'sqft_basement': {'FeatureName': 'sqft_basement', 'FeatureType': 'Fractional'}, 'yr_built': {'FeatureName': 'yr_built', 'FeatureType': 'Fractional'}}, sagemaker_fs_runtime_client_config=<botocore.config.Config object at 0x7fcd03ea4820>, sagemaker_session=<sagemaker.session.Session object at 0x7fcd04aad4e0>, max_workers=3, max_processes=1, profile_name=None, _async_result=<multiprocess.pool.MapResult object at 0x7fcd02dd92a0>, _processing_pool=<pool ProcessPool(ncpus=1)>, _failed_indices=[])"
      ]
     },
     "execution_count": 48,
     "metadata": {},
     "output_type": "execute_result"
    }
   ],
   "source": [
    "# Ingest training data\n",
    "feature_definitions_simulation.ingest(data_frame=sim_1, max_workers=3, wait=True)"
   ]
  },
  {
   "cell_type": "markdown",
   "id": "c445dbf0-c05b-40cc-b442-294aa89014e1",
   "metadata": {},
   "source": [
    "### Testing Data"
   ]
  },
  {
   "cell_type": "code",
   "execution_count": 39,
   "id": "e64b237d-41d9-449d-9dce-4bc30eeb5af3",
   "metadata": {
    "tags": []
   },
   "outputs": [],
   "source": [
    "# Define test feature group\n",
    "feature_group_name_test = 'housing-feature-group-test'\n",
    "\n",
    "feature_definitions_test = FeatureGroup(\n",
    "    name=feature_group_name_test,\n",
    "    sagemaker_session=sagemaker_session,\n",
    "    feature_definitions=[\n",
    "        FeatureDefinition(feature_name=\"number\", feature_type=FeatureTypeEnum.STRING),\n",
    "        FeatureDefinition(feature_name=\"event_time\", feature_type=FeatureTypeEnum.STRING),\n",
    "        FeatureDefinition(feature_name=\"date\", feature_type=FeatureTypeEnum.FRACTIONAL),\n",
    "        FeatureDefinition(feature_name=\"price\", feature_type=FeatureTypeEnum.FRACTIONAL),\n",
    "        FeatureDefinition(feature_name=\"bedrooms\", feature_type=FeatureTypeEnum.FRACTIONAL),\n",
    "        FeatureDefinition(feature_name=\"bathrooms\", feature_type=FeatureTypeEnum.FRACTIONAL),\n",
    "        FeatureDefinition(feature_name=\"sqft_living\", feature_type=FeatureTypeEnum.FRACTIONAL),\n",
    "        FeatureDefinition(feature_name=\"sqft_lot\", feature_type=FeatureTypeEnum.FRACTIONAL),\n",
    "        FeatureDefinition(feature_name=\"floors\", feature_type=FeatureTypeEnum.FRACTIONAL),\n",
    "        FeatureDefinition(feature_name=\"condition\", feature_type=FeatureTypeEnum.FRACTIONAL),\n",
    "        FeatureDefinition(feature_name=\"grade\", feature_type=FeatureTypeEnum.FRACTIONAL),\n",
    "        FeatureDefinition(feature_name=\"sqft_above\", feature_type=FeatureTypeEnum.FRACTIONAL),\n",
    "        FeatureDefinition(feature_name=\"sqft_basement\", feature_type=FeatureTypeEnum.FRACTIONAL),\n",
    "        FeatureDefinition(feature_name=\"yr_built\", feature_type=FeatureTypeEnum.FRACTIONAL),\n",
    "    ]\n",
    ")\n"
   ]
  },
  {
   "cell_type": "code",
   "execution_count": 40,
   "id": "c47a844a-13ab-48a8-8869-358c0915161b",
   "metadata": {
    "tags": []
   },
   "outputs": [
    {
     "data": {
      "text/plain": [
       "{'FeatureGroupArn': 'arn:aws:sagemaker:us-east-2:637423203755:feature-group/housing-feature-group-test',\n",
       " 'ResponseMetadata': {'RequestId': '8d2b5c50-144d-4f98-add7-7c7d8867888f',\n",
       "  'HTTPStatusCode': 200,\n",
       "  'HTTPHeaders': {'x-amzn-requestid': '8d2b5c50-144d-4f98-add7-7c7d8867888f',\n",
       "   'content-type': 'application/x-amz-json-1.1',\n",
       "   'content-length': '103',\n",
       "   'date': 'Thu, 12 Dec 2024 03:02:34 GMT'},\n",
       "  'RetryAttempts': 0}}"
      ]
     },
     "execution_count": 40,
     "metadata": {},
     "output_type": "execute_result"
    }
   ],
   "source": [
    "\n",
    "# Create the test feature group\n",
    "feature_definitions_test.create(\n",
    "    record_identifier_name=\"number\",\n",
    "    event_time_feature_name=\"event_time\",\n",
    "    s3_uri=f's3://mlo-team4/features/test/',\n",
    "    role_arn=role,\n",
    "    enable_online_store=True\n",
    ")\n"
   ]
  },
  {
   "cell_type": "code",
   "execution_count": 43,
   "id": "7184353d-4531-4966-a766-ea397286964e",
   "metadata": {
    "tags": []
   },
   "outputs": [
    {
     "data": {
      "text/plain": [
       "IngestionManagerPandas(feature_group_name='housing-feature-group-test', feature_definitions={'number': {'FeatureName': 'number', 'FeatureType': 'String'}, 'event_time': {'FeatureName': 'event_time', 'FeatureType': 'String'}, 'date': {'FeatureName': 'date', 'FeatureType': 'Fractional'}, 'price': {'FeatureName': 'price', 'FeatureType': 'Fractional'}, 'bedrooms': {'FeatureName': 'bedrooms', 'FeatureType': 'Fractional'}, 'bathrooms': {'FeatureName': 'bathrooms', 'FeatureType': 'Fractional'}, 'sqft_living': {'FeatureName': 'sqft_living', 'FeatureType': 'Fractional'}, 'sqft_lot': {'FeatureName': 'sqft_lot', 'FeatureType': 'Fractional'}, 'floors': {'FeatureName': 'floors', 'FeatureType': 'Fractional'}, 'condition': {'FeatureName': 'condition', 'FeatureType': 'Fractional'}, 'grade': {'FeatureName': 'grade', 'FeatureType': 'Fractional'}, 'sqft_above': {'FeatureName': 'sqft_above', 'FeatureType': 'Fractional'}, 'sqft_basement': {'FeatureName': 'sqft_basement', 'FeatureType': 'Fractional'}, 'yr_built': {'FeatureName': 'yr_built', 'FeatureType': 'Fractional'}}, sagemaker_fs_runtime_client_config=<botocore.config.Config object at 0x7fcd03ea4820>, sagemaker_session=<sagemaker.session.Session object at 0x7fcd04aad4e0>, max_workers=3, max_processes=1, profile_name=None, _async_result=<multiprocess.pool.MapResult object at 0x7fcd031c9d20>, _processing_pool=<pool ProcessPool(ncpus=1)>, _failed_indices=[])"
      ]
     },
     "execution_count": 43,
     "metadata": {},
     "output_type": "execute_result"
    }
   ],
   "source": [
    "# Ingest test data\n",
    "feature_definitions_test.ingest(data_frame=test_data, max_workers=3, wait=True)"
   ]
  },
  {
   "cell_type": "code",
   "execution_count": null,
   "id": "6b19f3d5-d3d5-40e0-a5d5-8ed3e47adf77",
   "metadata": {},
   "outputs": [],
   "source": []
  },
  {
   "cell_type": "markdown",
   "id": "86b87a05-b437-4969-bc02-8ed2764cc867",
   "metadata": {
    "tags": []
   },
   "source": [
    "### Store the rest of the simulation data into bucket for testing"
   ]
  },
  {
   "cell_type": "code",
   "execution_count": null,
   "id": "b410f3db-96a7-47b5-bd18-98b93987b37d",
   "metadata": {},
   "outputs": [],
   "source": [
    "simulation_2 = sim_2.astype(str)"
   ]
  },
  {
   "cell_type": "code",
   "execution_count": 72,
   "id": "73bb46bf-2a31-4272-9fce-faa61d80e205",
   "metadata": {
    "tags": []
   },
   "outputs": [],
   "source": [
    "simulation_3 = sim_3.astype(str)\n"
   ]
  },
  {
   "cell_type": "code",
   "execution_count": 73,
   "id": "922e1797-82ce-4f66-b74b-8c9865fccf0b",
   "metadata": {
    "tags": []
   },
   "outputs": [
    {
     "data": {
      "text/plain": [
       "number           object\n",
       "event_time       object\n",
       "date             object\n",
       "price            object\n",
       "bedrooms         object\n",
       "bathrooms        object\n",
       "sqft_living      object\n",
       "sqft_lot         object\n",
       "floors           object\n",
       "condition        object\n",
       "grade            object\n",
       "sqft_above       object\n",
       "sqft_basement    object\n",
       "yr_built         object\n",
       "dtype: object"
      ]
     },
     "execution_count": 73,
     "metadata": {},
     "output_type": "execute_result"
    }
   ],
   "source": [
    "simulation_3.dtypes\n"
   ]
  },
  {
   "cell_type": "code",
   "execution_count": 74,
   "id": "99405129-2ac4-4661-b22d-32739147263d",
   "metadata": {
    "tags": []
   },
   "outputs": [
    {
     "name": "stdout",
     "output_type": "stream",
     "text": [
      "Uploaded ./feature_group_csvs/simulation_3.csv to s3://mlo-team4/housing-streaming-data/simulation_3.csv\n"
     ]
    }
   ],
   "source": [
    "import boto3\n",
    "import os\n",
    "\n",
    "# S3 bucket details\n",
    "bucket_name = \"mlo-team4\"\n",
    "s3_prefix = \"housing-streaming-data\"  # Folder name in the S3 bucket\n",
    "\n",
    "# Save local CSVs to a temp directory before uploading\n",
    "output_dir = \"./feature_group_csvs\"\n",
    "os.makedirs(output_dir, exist_ok=True)\n",
    "\n",
    "# File paths\n",
    "train_csv_path = os.path.join(output_dir, \"simulation_3.csv\")\n",
    "\n",
    "# Save DataFrames as CSV\n",
    "sim_2.to_csv(train_csv_path, index=False)\n",
    "\n",
    "\n",
    "# Upload to S3\n",
    "s3_client = boto3.client(\"s3\")\n",
    "\n",
    "def upload_to_s3(local_path, s3_bucket, s3_key):\n",
    "    s3_client.upload_file(local_path, s3_bucket, s3_key)\n",
    "    print(f\"Uploaded {local_path} to s3://{s3_bucket}/{s3_key}\")\n",
    "\n",
    "# Upload files\n",
    "upload_to_s3(train_csv_path, bucket_name, f\"{s3_prefix}/simulation_3.csv\")\n",
    "\n"
   ]
  },
  {
   "cell_type": "code",
   "execution_count": null,
   "id": "9f6b01dc-691c-4215-b493-3a41eed8efb9",
   "metadata": {},
   "outputs": [],
   "source": [
    "# S3 bucket details\n",
    "bucket_name = \"mlo-team4\"\n",
    "s3_prefix = \"housing-streaming-data\"  # Folder name in the S3 bucket\n",
    "\n",
    "# Save local CSVs to a temp directory before uploading\n",
    "output_dir = \"./feature_group_csvs\"\n",
    "os.makedirs(output_dir, exist_ok=True)\n",
    "\n",
    "# File paths\n",
    "train_csv_path = os.path.join(output_dir, \"simulation_2.csv\")\n",
    "\n",
    "# Save DataFrames as CSV\n",
    "sim_2.to_csv(train_csv_path, index=False)\n",
    "\n",
    "\n",
    "# Upload to S3\n",
    "s3_client = boto3.client(\"s3\")\n",
    "\n",
    "def upload_to_s3(local_path, s3_bucket, s3_key):\n",
    "    s3_client.upload_file(local_path, s3_bucket, s3_key)\n",
    "    print(f\"Uploaded {local_path} to s3://{s3_bucket}/{s3_key}\")\n",
    "\n",
    "# Upload files\n",
    "upload_to_s3(train_csv_path, bucket_name, f\"{s3_prefix}/simulation_2.csv\")"
   ]
  },
  {
   "cell_type": "code",
   "execution_count": 37,
   "id": "b5fd864b-2e93-4e47-9616-0720e0101128",
   "metadata": {
    "tags": []
   },
   "outputs": [
    {
     "name": "stdout",
     "output_type": "stream",
     "text": [
      "Uploaded ./feature_group_csvs/simulation_data.csv to s3://mlo-team4/feature_store_splits/simulation_data.csv\n",
      "All datasets have been saved and uploaded to S3.\n"
     ]
    }
   ],
   "source": [
    "# File path for simulation data\n",
    "simulation_csv_path = os.path.join(output_dir, \"simulation_data.csv\")\n",
    "\n",
    "# Save simulation data as CSV\n",
    "simulation_data.to_csv(simulation_csv_path, index=False)\n",
    "\n",
    "# Upload simulation data to S3\n",
    "upload_to_s3(simulation_csv_path, bucket_name, f\"{s3_prefix}/simulation_data.csv\")\n",
    "\n",
    "print(\"All datasets have been saved and uploaded to S3.\")"
   ]
  },
  {
   "cell_type": "markdown",
   "id": "e3f88977-2afe-4e87-9c98-521fd2fd07b5",
   "metadata": {},
   "source": [
    "### Example: Function to call all parquets from feature store"
   ]
  },
  {
   "cell_type": "code",
   "execution_count": 73,
   "id": "a9bd1e2f-be1c-41ce-9026-46bc8ad609c2",
   "metadata": {},
   "outputs": [
    {
     "name": "stdout",
     "output_type": "stream",
     "text": [
      "Listing parquet files...\n",
      "Found 42 parquet files\n",
      "Reading parquet files...\n",
      "Combined DataFrame shape: (10129, 17)\n"
     ]
    }
   ],
   "source": [
    "import boto3\n",
    "import pandas as pd\n",
    "import awswrangler as wr\n",
    "from typing import List\n",
    "\n",
    "def list_parquet_files(bucket: str, prefix: str) -> List[str]:\n",
    "    \"\"\"\n",
    "    List all parquet files under a given S3 prefix, including date-partitioned folders\n",
    "    \n",
    "    Args:\n",
    "        bucket (str): S3 bucket name\n",
    "        prefix (str): S3 prefix path\n",
    "        \n",
    "    Returns:\n",
    "        List[str]: List of complete S3 URIs for parquet files\n",
    "    \"\"\"\n",
    "    s3_client = boto3.client('s3')\n",
    "    parquet_files = []\n",
    "    \n",
    "    # Remove s3:// if present in bucket name\n",
    "    bucket = bucket.replace('s3://', '')\n",
    "    \n",
    "    # Use delimiter to list folders first\n",
    "    paginator = s3_client.get_paginator('list_objects_v2')\n",
    "    \n",
    "    # First, get all year folders\n",
    "    year_pages = paginator.paginate(Bucket=bucket, Prefix=prefix, Delimiter='/')\n",
    "    \n",
    "    for year_page in year_pages:\n",
    "        if 'CommonPrefixes' in year_page:\n",
    "            for year_prefix in year_page['CommonPrefixes']:\n",
    "                year_path = year_prefix['Prefix']\n",
    "                \n",
    "                # For each year, get month folders\n",
    "                month_pages = paginator.paginate(Bucket=bucket, Prefix=year_path, Delimiter='/')\n",
    "                for month_page in month_pages:\n",
    "                    if 'CommonPrefixes' in month_page:\n",
    "                        for month_prefix in month_page['CommonPrefixes']:\n",
    "                            month_path = month_prefix['Prefix']\n",
    "                            \n",
    "                            # For each month, get day folders\n",
    "                            day_pages = paginator.paginate(Bucket=bucket, Prefix=month_path, Delimiter='/')\n",
    "                            for day_page in day_pages:\n",
    "                                if 'CommonPrefixes' in day_page:\n",
    "                                    for day_prefix in day_page['CommonPrefixes']:\n",
    "                                        day_path = day_prefix['Prefix']\n",
    "                                        \n",
    "                                        # Finally, list parquet files in the day folder\n",
    "                                        file_pages = paginator.paginate(Bucket=bucket, Prefix=day_path)\n",
    "                                        for file_page in file_pages:\n",
    "                                            if 'Contents' in file_page:\n",
    "                                                for obj in file_page['Contents']:\n",
    "                                                    if obj['Key'].endswith('.parquet'):\n",
    "                                                        parquet_files.append(f\"s3://{bucket}/{obj['Key']}\")\n",
    "    \n",
    "    return parquet_files\n",
    "\n",
    "def read_all_parquets(s3_path: str) -> pd.DataFrame:\n",
    "    \"\"\"\n",
    "    Read and concatenate all parquet files from a given S3 path with date partitions\n",
    "    \n",
    "    Args:\n",
    "        s3_path (str): Base S3 path including bucket and prefix\n",
    "        \n",
    "    Returns:\n",
    "        pd.DataFrame: Combined DataFrame from all parquet files\n",
    "    \"\"\"\n",
    "    # Split S3 path into bucket and prefix\n",
    "    s3_path = s3_path.rstrip('/')\n",
    "    bucket = s3_path.split('/')[2]\n",
    "    prefix = '/'.join(s3_path.split('/')[3:]) + '/'\n",
    "    \n",
    "    # Get list of all parquet files\n",
    "    print(\"Listing parquet files...\")\n",
    "    parquet_files = list_parquet_files(bucket, prefix)\n",
    "    \n",
    "    if not parquet_files:\n",
    "        raise ValueError(f\"No parquet files found in {s3_path}\")\n",
    "    \n",
    "    # Read all parquet files\n",
    "    print(f\"Found {len(parquet_files)} parquet files\")\n",
    "    print(\"Reading parquet files...\")\n",
    "    df = wr.s3.read_parquet(path=parquet_files)\n",
    "    \n",
    "    return df\n",
    "\n",
    "# Example usage\n",
    "try:\n",
    "    s3_path = \"s3://mlo-team4/features/simulation/637423203755/sagemaker/us-east-2/offline-store/housing-feature-group-simulation-1733973023/data/\"\n",
    "    combined_df = read_all_parquets(s3_path)\n",
    "    print(f\"Combined DataFrame shape: {combined_df.shape}\")\n",
    "except Exception as e:\n",
    "    print(f\"Error: {str(e)}\")"
   ]
  },
  {
   "cell_type": "code",
   "execution_count": 72,
   "id": "e944911e-0858-4ba6-acd2-ab7c455d8ecb",
   "metadata": {
    "tags": []
   },
   "outputs": [
    {
     "data": {
      "text/html": [
       "<div>\n",
       "<style scoped>\n",
       "    .dataframe tbody tr th:only-of-type {\n",
       "        vertical-align: middle;\n",
       "    }\n",
       "\n",
       "    .dataframe tbody tr th {\n",
       "        vertical-align: top;\n",
       "    }\n",
       "\n",
       "    .dataframe thead th {\n",
       "        text-align: right;\n",
       "    }\n",
       "</style>\n",
       "<table border=\"1\" class=\"dataframe\">\n",
       "  <thead>\n",
       "    <tr style=\"text-align: right;\">\n",
       "      <th></th>\n",
       "      <th>number</th>\n",
       "      <th>event_time</th>\n",
       "      <th>date</th>\n",
       "      <th>price</th>\n",
       "      <th>bedrooms</th>\n",
       "      <th>bathrooms</th>\n",
       "      <th>sqft_living</th>\n",
       "      <th>sqft_lot</th>\n",
       "      <th>floors</th>\n",
       "      <th>condition</th>\n",
       "      <th>grade</th>\n",
       "      <th>sqft_above</th>\n",
       "      <th>sqft_basement</th>\n",
       "      <th>yr_built</th>\n",
       "      <th>write_time</th>\n",
       "      <th>api_invocation_time</th>\n",
       "      <th>is_deleted</th>\n",
       "    </tr>\n",
       "  </thead>\n",
       "  <tbody>\n",
       "    <tr>\n",
       "      <th>0</th>\n",
       "      <td>9837</td>\n",
       "      <td>2024-12-09T21:54:16Z</td>\n",
       "      <td>2014.0</td>\n",
       "      <td>491000.0</td>\n",
       "      <td>3.0</td>\n",
       "      <td>2.00</td>\n",
       "      <td>1660.0</td>\n",
       "      <td>5070.0</td>\n",
       "      <td>2.0</td>\n",
       "      <td>3.0</td>\n",
       "      <td>8.0</td>\n",
       "      <td>1660.0</td>\n",
       "      <td>0.0</td>\n",
       "      <td>1950.0</td>\n",
       "      <td>2024-12-09 22:00:56.560000+00:00</td>\n",
       "      <td>2024-12-09 21:55:58+00:00</td>\n",
       "      <td>False</td>\n",
       "    </tr>\n",
       "    <tr>\n",
       "      <th>1</th>\n",
       "      <td>10320</td>\n",
       "      <td>2024-12-09T21:54:16Z</td>\n",
       "      <td>2015.0</td>\n",
       "      <td>365000.0</td>\n",
       "      <td>4.0</td>\n",
       "      <td>1.00</td>\n",
       "      <td>1760.0</td>\n",
       "      <td>8906.0</td>\n",
       "      <td>1.0</td>\n",
       "      <td>3.0</td>\n",
       "      <td>7.0</td>\n",
       "      <td>1230.0</td>\n",
       "      <td>530.0</td>\n",
       "      <td>1966.0</td>\n",
       "      <td>2024-12-09 22:00:56.560000+00:00</td>\n",
       "      <td>2024-12-09 21:55:58+00:00</td>\n",
       "      <td>False</td>\n",
       "    </tr>\n",
       "    <tr>\n",
       "      <th>2</th>\n",
       "      <td>1913</td>\n",
       "      <td>2024-12-09T21:54:16Z</td>\n",
       "      <td>2014.0</td>\n",
       "      <td>315000.0</td>\n",
       "      <td>3.0</td>\n",
       "      <td>1.75</td>\n",
       "      <td>1660.0</td>\n",
       "      <td>8160.0</td>\n",
       "      <td>1.0</td>\n",
       "      <td>4.0</td>\n",
       "      <td>7.0</td>\n",
       "      <td>1660.0</td>\n",
       "      <td>0.0</td>\n",
       "      <td>1951.0</td>\n",
       "      <td>2024-12-09 22:00:56.560000+00:00</td>\n",
       "      <td>2024-12-09 21:55:58+00:00</td>\n",
       "      <td>False</td>\n",
       "    </tr>\n",
       "    <tr>\n",
       "      <th>3</th>\n",
       "      <td>6058</td>\n",
       "      <td>2024-12-09T21:54:16Z</td>\n",
       "      <td>2014.0</td>\n",
       "      <td>530000.0</td>\n",
       "      <td>2.0</td>\n",
       "      <td>1.50</td>\n",
       "      <td>1390.0</td>\n",
       "      <td>5000.0</td>\n",
       "      <td>1.0</td>\n",
       "      <td>4.0</td>\n",
       "      <td>8.0</td>\n",
       "      <td>970.0</td>\n",
       "      <td>420.0</td>\n",
       "      <td>1954.0</td>\n",
       "      <td>2024-12-09 22:00:56.560000+00:00</td>\n",
       "      <td>2024-12-09 21:55:58+00:00</td>\n",
       "      <td>False</td>\n",
       "    </tr>\n",
       "    <tr>\n",
       "      <th>4</th>\n",
       "      <td>18577</td>\n",
       "      <td>2024-12-09T21:54:16Z</td>\n",
       "      <td>2014.0</td>\n",
       "      <td>240000.0</td>\n",
       "      <td>3.0</td>\n",
       "      <td>2.25</td>\n",
       "      <td>1410.0</td>\n",
       "      <td>7290.0</td>\n",
       "      <td>1.0</td>\n",
       "      <td>3.0</td>\n",
       "      <td>7.0</td>\n",
       "      <td>940.0</td>\n",
       "      <td>470.0</td>\n",
       "      <td>1980.0</td>\n",
       "      <td>2024-12-09 22:00:56.560000+00:00</td>\n",
       "      <td>2024-12-09 21:55:58+00:00</td>\n",
       "      <td>False</td>\n",
       "    </tr>\n",
       "    <tr>\n",
       "      <th>...</th>\n",
       "      <td>...</td>\n",
       "      <td>...</td>\n",
       "      <td>...</td>\n",
       "      <td>...</td>\n",
       "      <td>...</td>\n",
       "      <td>...</td>\n",
       "      <td>...</td>\n",
       "      <td>...</td>\n",
       "      <td>...</td>\n",
       "      <td>...</td>\n",
       "      <td>...</td>\n",
       "      <td>...</td>\n",
       "      <td>...</td>\n",
       "      <td>...</td>\n",
       "      <td>...</td>\n",
       "      <td>...</td>\n",
       "      <td>...</td>\n",
       "    </tr>\n",
       "    <tr>\n",
       "      <th>3737</th>\n",
       "      <td>924</td>\n",
       "      <td>2024-12-11T06:36:06Z</td>\n",
       "      <td>2014.0</td>\n",
       "      <td>340000.0</td>\n",
       "      <td>3.0</td>\n",
       "      <td>1.00</td>\n",
       "      <td>1250.0</td>\n",
       "      <td>4800.0</td>\n",
       "      <td>1.0</td>\n",
       "      <td>4.0</td>\n",
       "      <td>7.0</td>\n",
       "      <td>1250.0</td>\n",
       "      <td>0.0</td>\n",
       "      <td>1951.0</td>\n",
       "      <td>2024-12-11 06:41:03.094000+00:00</td>\n",
       "      <td>2024-12-11 06:36:32+00:00</td>\n",
       "      <td>False</td>\n",
       "    </tr>\n",
       "    <tr>\n",
       "      <th>3738</th>\n",
       "      <td>949</td>\n",
       "      <td>2024-12-11T06:36:06Z</td>\n",
       "      <td>2014.0</td>\n",
       "      <td>527500.0</td>\n",
       "      <td>2.0</td>\n",
       "      <td>1.00</td>\n",
       "      <td>1170.0</td>\n",
       "      <td>3000.0</td>\n",
       "      <td>1.5</td>\n",
       "      <td>3.0</td>\n",
       "      <td>7.0</td>\n",
       "      <td>1170.0</td>\n",
       "      <td>0.0</td>\n",
       "      <td>1910.0</td>\n",
       "      <td>2024-12-11 06:41:03.094000+00:00</td>\n",
       "      <td>2024-12-11 06:36:33+00:00</td>\n",
       "      <td>False</td>\n",
       "    </tr>\n",
       "    <tr>\n",
       "      <th>3739</th>\n",
       "      <td>965</td>\n",
       "      <td>2024-12-11T06:36:06Z</td>\n",
       "      <td>2014.0</td>\n",
       "      <td>534950.0</td>\n",
       "      <td>5.0</td>\n",
       "      <td>1.50</td>\n",
       "      <td>2240.0</td>\n",
       "      <td>6337.0</td>\n",
       "      <td>1.0</td>\n",
       "      <td>3.0</td>\n",
       "      <td>8.0</td>\n",
       "      <td>1280.0</td>\n",
       "      <td>960.0</td>\n",
       "      <td>1956.0</td>\n",
       "      <td>2024-12-11 06:41:03.094000+00:00</td>\n",
       "      <td>2024-12-11 06:36:33+00:00</td>\n",
       "      <td>False</td>\n",
       "    </tr>\n",
       "    <tr>\n",
       "      <th>3740</th>\n",
       "      <td>972</td>\n",
       "      <td>2024-12-11T06:36:06Z</td>\n",
       "      <td>2014.0</td>\n",
       "      <td>599000.0</td>\n",
       "      <td>2.0</td>\n",
       "      <td>1.00</td>\n",
       "      <td>1550.0</td>\n",
       "      <td>7713.0</td>\n",
       "      <td>1.0</td>\n",
       "      <td>3.0</td>\n",
       "      <td>7.0</td>\n",
       "      <td>1550.0</td>\n",
       "      <td>0.0</td>\n",
       "      <td>1930.0</td>\n",
       "      <td>2024-12-11 06:41:03.094000+00:00</td>\n",
       "      <td>2024-12-11 06:36:33+00:00</td>\n",
       "      <td>False</td>\n",
       "    </tr>\n",
       "    <tr>\n",
       "      <th>3741</th>\n",
       "      <td>999</td>\n",
       "      <td>2024-12-11T06:36:06Z</td>\n",
       "      <td>2014.0</td>\n",
       "      <td>230000.0</td>\n",
       "      <td>3.0</td>\n",
       "      <td>1.75</td>\n",
       "      <td>1340.0</td>\n",
       "      <td>8250.0</td>\n",
       "      <td>1.0</td>\n",
       "      <td>3.0</td>\n",
       "      <td>7.0</td>\n",
       "      <td>1100.0</td>\n",
       "      <td>240.0</td>\n",
       "      <td>1985.0</td>\n",
       "      <td>2024-12-11 06:41:03.094000+00:00</td>\n",
       "      <td>2024-12-11 06:36:34+00:00</td>\n",
       "      <td>False</td>\n",
       "    </tr>\n",
       "  </tbody>\n",
       "</table>\n",
       "<p>3742 rows × 17 columns</p>\n",
       "</div>"
      ],
      "text/plain": [
       "     number            event_time    date     price  bedrooms  bathrooms  \\\n",
       "0      9837  2024-12-09T21:54:16Z  2014.0  491000.0       3.0       2.00   \n",
       "1     10320  2024-12-09T21:54:16Z  2015.0  365000.0       4.0       1.00   \n",
       "2      1913  2024-12-09T21:54:16Z  2014.0  315000.0       3.0       1.75   \n",
       "3      6058  2024-12-09T21:54:16Z  2014.0  530000.0       2.0       1.50   \n",
       "4     18577  2024-12-09T21:54:16Z  2014.0  240000.0       3.0       2.25   \n",
       "...     ...                   ...     ...       ...       ...        ...   \n",
       "3737    924  2024-12-11T06:36:06Z  2014.0  340000.0       3.0       1.00   \n",
       "3738    949  2024-12-11T06:36:06Z  2014.0  527500.0       2.0       1.00   \n",
       "3739    965  2024-12-11T06:36:06Z  2014.0  534950.0       5.0       1.50   \n",
       "3740    972  2024-12-11T06:36:06Z  2014.0  599000.0       2.0       1.00   \n",
       "3741    999  2024-12-11T06:36:06Z  2014.0  230000.0       3.0       1.75   \n",
       "\n",
       "      sqft_living  sqft_lot  floors  condition  grade  sqft_above  \\\n",
       "0          1660.0    5070.0     2.0        3.0    8.0      1660.0   \n",
       "1          1760.0    8906.0     1.0        3.0    7.0      1230.0   \n",
       "2          1660.0    8160.0     1.0        4.0    7.0      1660.0   \n",
       "3          1390.0    5000.0     1.0        4.0    8.0       970.0   \n",
       "4          1410.0    7290.0     1.0        3.0    7.0       940.0   \n",
       "...           ...       ...     ...        ...    ...         ...   \n",
       "3737       1250.0    4800.0     1.0        4.0    7.0      1250.0   \n",
       "3738       1170.0    3000.0     1.5        3.0    7.0      1170.0   \n",
       "3739       2240.0    6337.0     1.0        3.0    8.0      1280.0   \n",
       "3740       1550.0    7713.0     1.0        3.0    7.0      1550.0   \n",
       "3741       1340.0    8250.0     1.0        3.0    7.0      1100.0   \n",
       "\n",
       "      sqft_basement  yr_built                       write_time  \\\n",
       "0               0.0    1950.0 2024-12-09 22:00:56.560000+00:00   \n",
       "1             530.0    1966.0 2024-12-09 22:00:56.560000+00:00   \n",
       "2               0.0    1951.0 2024-12-09 22:00:56.560000+00:00   \n",
       "3             420.0    1954.0 2024-12-09 22:00:56.560000+00:00   \n",
       "4             470.0    1980.0 2024-12-09 22:00:56.560000+00:00   \n",
       "...             ...       ...                              ...   \n",
       "3737            0.0    1951.0 2024-12-11 06:41:03.094000+00:00   \n",
       "3738            0.0    1910.0 2024-12-11 06:41:03.094000+00:00   \n",
       "3739          960.0    1956.0 2024-12-11 06:41:03.094000+00:00   \n",
       "3740            0.0    1930.0 2024-12-11 06:41:03.094000+00:00   \n",
       "3741          240.0    1985.0 2024-12-11 06:41:03.094000+00:00   \n",
       "\n",
       "           api_invocation_time  is_deleted  \n",
       "0    2024-12-09 21:55:58+00:00       False  \n",
       "1    2024-12-09 21:55:58+00:00       False  \n",
       "2    2024-12-09 21:55:58+00:00       False  \n",
       "3    2024-12-09 21:55:58+00:00       False  \n",
       "4    2024-12-09 21:55:58+00:00       False  \n",
       "...                        ...         ...  \n",
       "3737 2024-12-11 06:36:32+00:00       False  \n",
       "3738 2024-12-11 06:36:33+00:00       False  \n",
       "3739 2024-12-11 06:36:33+00:00       False  \n",
       "3740 2024-12-11 06:36:33+00:00       False  \n",
       "3741 2024-12-11 06:36:34+00:00       False  \n",
       "\n",
       "[3742 rows x 17 columns]"
      ]
     },
     "execution_count": 72,
     "metadata": {},
     "output_type": "execute_result"
    }
   ],
   "source": [
    "combined_df"
   ]
  }
 ],
 "metadata": {
  "kernelspec": {
   "display_name": "conda_python3",
   "language": "python",
   "name": "conda_python3"
  },
  "language_info": {
   "codemirror_mode": {
    "name": "ipython",
    "version": 3
   },
   "file_extension": ".py",
   "mimetype": "text/x-python",
   "name": "python",
   "nbconvert_exporter": "python",
   "pygments_lexer": "ipython3",
   "version": "3.10.15"
  }
 },
 "nbformat": 4,
 "nbformat_minor": 5
}
